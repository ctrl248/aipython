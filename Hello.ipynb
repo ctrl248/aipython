{
  "nbformat": 4,
  "nbformat_minor": 0,
  "metadata": {
    "colab": {
      "provenance": [],
      "authorship_tag": "ABX9TyNJbVYOHqDLn+1K/aCpeP6w",
      "include_colab_link": true
    },
    "kernelspec": {
      "name": "python3",
      "display_name": "Python 3"
    },
    "language_info": {
      "name": "python"
    }
  },
  "cells": [
    {
      "cell_type": "markdown",
      "metadata": {
        "id": "view-in-github",
        "colab_type": "text"
      },
      "source": [
        "<a href=\"https://colab.research.google.com/github/ctrl248/aipython/blob/main/Hello.ipynb\" target=\"_parent\"><img src=\"https://colab.research.google.com/assets/colab-badge.svg\" alt=\"Open In Colab\"/></a>"
      ]
    },
    {
      "cell_type": "markdown",
      "source": [
        "Hello world 출력코드"
      ],
      "metadata": {
        "id": "iKZz6hRFLcjH"
      }
    },
    {
      "cell_type": "code",
      "execution_count": 2,
      "metadata": {
        "colab": {
          "base_uri": "https://localhost:8080/"
        },
        "id": "eXhmsP-pK_j6",
        "outputId": "bf62dbb8-5ccc-43a2-b59b-4c5304ac85f8"
      },
      "outputs": [
        {
          "output_type": "stream",
          "name": "stdout",
          "text": [
            "Hello world!\n"
          ]
        }
      ],
      "source": [
        "#출력하기\n",
        "print(\"Hello world!\")"
      ]
    },
    {
      "cell_type": "markdown",
      "source": [
        "a와 b 정수 크기 비교하기"
      ],
      "metadata": {
        "id": "FxJsAAiRQxTg"
      }
    },
    {
      "cell_type": "code",
      "source": [
        "#a와 b 정수 크기 비교하기\n",
        "a, b = map(int, input().split())\n",
        "\n",
        "if a > b:\n",
        "  print(\">\")\n",
        "elif a < b:\n",
        "  print(\"<\")\n",
        "else:\n",
        "  print(\"==\")"
      ],
      "metadata": {
        "colab": {
          "base_uri": "https://localhost:8080/"
        },
        "id": "eC_x5ccxLhBm",
        "outputId": "30183bab-bb4e-436c-cc08-bbd8fdcdabea"
      },
      "execution_count": 8,
      "outputs": [
        {
          "output_type": "stream",
          "name": "stdout",
          "text": [
            "1 2\n",
            "<\n"
          ]
        }
      ]
    }
  ]
}
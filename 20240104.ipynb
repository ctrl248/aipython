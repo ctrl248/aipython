{
  "nbformat": 4,
  "nbformat_minor": 0,
  "metadata": {
    "colab": {
      "provenance": [],
      "authorship_tag": "ABX9TyPR1jMwmuYGRomcX5za4Xr1",
      "include_colab_link": true
    },
    "kernelspec": {
      "name": "python3",
      "display_name": "Python 3"
    },
    "language_info": {
      "name": "python"
    }
  },
  "cells": [
    {
      "cell_type": "markdown",
      "metadata": {
        "id": "view-in-github",
        "colab_type": "text"
      },
      "source": [
        "<a href=\"https://colab.research.google.com/github/ctrl248/aipython/blob/main/20240104.ipynb\" target=\"_parent\"><img src=\"https://colab.research.google.com/assets/colab-badge.svg\" alt=\"Open In Colab\"/></a>"
      ]
    },
    {
      "cell_type": "code",
      "source": [
        "numbers = []\n",
        "\n",
        "while True:\n",
        "    try:\n",
        "        input_str = input(\"학생의 점수를 입력하세요: \")\n",
        "        if input_str.lower() == 'stop':\n",
        "            break\n",
        "        value = int(input_str)\n",
        "        numbers.append(value)\n",
        "    except ValueError:\n",
        "        break\n",
        "\n",
        "if numbers:\n",
        "    # Print entered numbers\n",
        "    print(\"입력 데이터 출력:\", numbers)\n",
        "\n",
        "    # Print sum of numbers\n",
        "    total_sum = sum(numbers)\n",
        "    print(\"합계:\", total_sum)\n",
        "\n",
        "    # Print count of numbers\n",
        "    count = len(numbers)\n",
        "    print(\"인원수:\", count)\n",
        "\n",
        "    # Print average\n",
        "    average = total_sum / count\n",
        "    print(\"평균:\", average)\n",
        "else:\n",
        "    print(\"점수가 입력되지 않았습니다.\")"
      ],
      "metadata": {
        "colab": {
          "base_uri": "https://localhost:8080/"
        },
        "id": "1CMiSpomic90",
        "outputId": "5a61a86a-da02-438b-b3af-aca376fea57b"
      },
      "execution_count": 16,
      "outputs": [
        {
          "output_type": "stream",
          "name": "stdout",
          "text": [
            "학생의 점수를 입력하세요: 100\n",
            "학생의 점수를 입력하세요: 20\n",
            "학생의 점수를 입력하세요: 50\n",
            "학생의 점수를 입력하세요: ㅗ\n",
            "입력 데이터 출력: [100, 20, 50]\n",
            "합계: 170\n",
            "인원수: 3\n",
            "평균: 56.666666666666664\n"
          ]
        }
      ]
    }
  ]
}
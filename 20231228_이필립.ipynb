{
  "nbformat": 4,
  "nbformat_minor": 0,
  "metadata": {
    "colab": {
      "provenance": [],
      "authorship_tag": "ABX9TyMb+o1TvBAf9r837tWZ7lTB",
      "include_colab_link": true
    },
    "kernelspec": {
      "name": "python3",
      "display_name": "Python 3"
    },
    "language_info": {
      "name": "python"
    }
  },
  "cells": [
    {
      "cell_type": "markdown",
      "metadata": {
        "id": "view-in-github",
        "colab_type": "text"
      },
      "source": [
        "<a href=\"https://colab.research.google.com/github/ctrl248/aipython/blob/main/20231228_%EC%9D%B4%ED%95%84%EB%A6%BD.ipynb\" target=\"_parent\"><img src=\"https://colab.research.google.com/assets/colab-badge.svg\" alt=\"Open In Colab\"/></a>"
      ]
    },
    {
      "cell_type": "code",
      "execution_count": 1,
      "metadata": {
        "id": "w9zJbkL8AD2G"
      },
      "outputs": [],
      "source": [
        "import os"
      ]
    },
    {
      "cell_type": "code",
      "source": [
        "import numpy"
      ],
      "metadata": {
        "id": "AijCk3tjAKLB"
      },
      "execution_count": 3,
      "outputs": []
    },
    {
      "cell_type": "code",
      "source": [
        "import pandas"
      ],
      "metadata": {
        "id": "FhgloJMBAUgI"
      },
      "execution_count": 4,
      "outputs": []
    },
    {
      "cell_type": "code",
      "source": [
        "#화면에 여러 줄을\n",
        "#출력하는 방법에 대한 코드입니다.\n",
        "print('부산대학교')\n",
        "print('기초교육원')\n",
        "print('컴퓨팅적 사고와 코딩')"
      ],
      "metadata": {
        "colab": {
          "base_uri": "https://localhost:8080/"
        },
        "id": "Tlk8QYQJBQ9I",
        "outputId": "c4c3dcd6-3916-4bc7-d608-4c1f33d245ea"
      },
      "execution_count": 5,
      "outputs": [
        {
          "output_type": "stream",
          "name": "stdout",
          "text": [
            "부산대학교\n",
            "기초교육원\n",
            "컴퓨팅적 사고와 코딩\n"
          ]
        }
      ]
    },
    {
      "cell_type": "code",
      "source": [
        "print(\"부산대학교\") #첫 번째 줄에 '부산대학교'를 출력합니다.\n",
        "print(\"기초교육원\") #두 번째 줄에 '기초교육원'를 출력합니다.\n",
        "print(\"컴퓨팅적 사고와 코딩\") #첫 번째 줄에 '파이썬 프로그래밍 기초'를 출력합니다."
      ],
      "metadata": {
        "colab": {
          "base_uri": "https://localhost:8080/"
        },
        "id": "Gjg1xbxuFpWz",
        "outputId": "02bc99ea-bd0d-4ca6-baff-d67c8d54bc3e"
      },
      "execution_count": 6,
      "outputs": [
        {
          "output_type": "stream",
          "name": "stdout",
          "text": [
            "부산대학교\n",
            "기초교육원\n",
            "컴퓨팅적 사고와 코딩\n"
          ]
        }
      ]
    },
    {
      "cell_type": "code",
      "source": [
        "print(\"\"\"One\n",
        "Two\n",
        "Three\"\"\")"
      ],
      "metadata": {
        "colab": {
          "base_uri": "https://localhost:8080/"
        },
        "id": "RcrVvhk_F8Uo",
        "outputId": "22e25253-28a5-487c-c744-0fb11e8f5a57"
      },
      "execution_count": 9,
      "outputs": [
        {
          "output_type": "stream",
          "name": "stdout",
          "text": [
            "One\n",
            "Two\n",
            "Three\n"
          ]
        }
      ]
    },
    {
      "cell_type": "code",
      "source": [],
      "metadata": {
        "id": "RPD0QZFDGCjI"
      },
      "execution_count": null,
      "outputs": []
    }
  ]
}